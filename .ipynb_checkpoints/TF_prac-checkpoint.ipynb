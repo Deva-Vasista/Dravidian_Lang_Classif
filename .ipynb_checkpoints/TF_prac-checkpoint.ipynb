{
 "cells": [
  {
   "cell_type": "markdown",
   "id": "d3e2a4f4-94f3-42f7-b4ed-d79ad2365195",
   "metadata": {},
   "source": [
    "## Fake News Detection In Dravidian Languages"
   ]
  },
  {
   "cell_type": "code",
   "execution_count": 1,
   "id": "c7b6f207-7af4-4e70-9c87-33246b163752",
   "metadata": {},
   "outputs": [],
   "source": [
    "import pandas as pd\n",
    "import numpy as np\n",
    "from sklearn.metrics import f1_score\n",
    "import fasttext\n",
    "import tokenizers"
   ]
  },
  {
   "cell_type": "code",
   "execution_count": 2,
   "id": "ddd0fddc-dfbd-4de6-87a2-271fd91abbd0",
   "metadata": {},
   "outputs": [],
   "source": [
    "data = pd.read_csv(\"labelled_train_set.csv\")"
   ]
  },
  {
   "cell_type": "code",
   "execution_count": 3,
   "id": "cc4a86cd-24fc-47b2-b7de-4e1e2845ed47",
   "metadata": {},
   "outputs": [],
   "source": [
    "main_test = pd.read_csv('unlabelled_test1.csv')"
   ]
  },
  {
   "cell_type": "code",
   "execution_count": 4,
   "id": "d6d87563-5d0d-4179-9a8c-b8ea255974cc",
   "metadata": {},
   "outputs": [],
   "source": [
    "data.Type = data.Type.str.replace(\" \",\"_\")"
   ]
  },
  {
   "cell_type": "code",
   "execution_count": 5,
   "id": "dd7c58f0-7c81-49a4-90a5-227e10e45493",
   "metadata": {},
   "outputs": [],
   "source": [
    "# data[\"News/Comment\"]=data[\"News/Comment\"].str.replace(\"\\u200d\",'').replace(\"\\n\",\"\")"
   ]
  },
  {
   "cell_type": "code",
   "execution_count": 6,
   "id": "86e7ef7a-210f-4ccd-aaf8-5e0d0a74831e",
   "metadata": {},
   "outputs": [
    {
     "data": {
      "text/plain": [
       "Type\n",
       "FALSE           1130\n",
       "MOSTLY_FALSE     230\n",
       "HALF_TRUE        138\n",
       "PARTLY_FALSE      38\n",
       "MOSTLY_TRUE        1\n",
       "Name: count, dtype: int64"
      ]
     },
     "execution_count": 6,
     "metadata": {},
     "output_type": "execute_result"
    }
   ],
   "source": [
    "data.Type.value_counts()"
   ]
  },
  {
   "cell_type": "code",
   "execution_count": 7,
   "id": "4b5c8aee-d29c-4fa9-9779-ae1daf8a5da6",
   "metadata": {},
   "outputs": [],
   "source": [
    "data[\"Type\"] = \"__label__\" + data[\"Type\"].astype('str')"
   ]
  },
  {
   "cell_type": "code",
   "execution_count": 8,
   "id": "25bb6a1d-9bce-4cce-be01-ffeb271abd12",
   "metadata": {},
   "outputs": [],
   "source": [
    "data['description'] = data[\"Type\"] + \" \" + data[\"News/Comment\"]"
   ]
  },
  {
   "cell_type": "code",
   "execution_count": 9,
   "id": "edda2f0a-848c-4c61-b236-adfa85aa0a5e",
   "metadata": {},
   "outputs": [],
   "source": [
    "from sklearn.model_selection import train_test_split\n",
    "train,test = train_test_split(data, test_size = 0.2)"
   ]
  },
  {
   "cell_type": "code",
   "execution_count": 10,
   "id": "71a4e804-ebb3-4351-9b11-9f60a382948d",
   "metadata": {},
   "outputs": [
    {
     "data": {
      "text/plain": [
       "\"ഹാരി രാജകുമാരന്റെ 'ഹാർട്ട് ഓഫ് ഇൻവിക്റ്റസ്' സീരീസ് നെറ്റ്ഫ്ലിക്സ് റദ്ദാക്കിയോ?\""
      ]
     },
     "execution_count": 10,
     "metadata": {},
     "output_type": "execute_result"
    }
   ],
   "source": [
    "train.iloc[15,1]"
   ]
  },
  {
   "cell_type": "code",
   "execution_count": 11,
   "id": "d63cdacc-4a10-4346-bd02-c727b946d810",
   "metadata": {},
   "outputs": [],
   "source": [
    "train.to_csv(\"dra.train\", columns = [\"description\"], index = False , header = False)\n",
    "test.to_csv(\"dra.test\", columns = [\"description\"], index = False , header = False)"
   ]
  },
  {
   "cell_type": "code",
   "execution_count": 12,
   "id": "29591745-c816-4918-ab2f-88a9d0322604",
   "metadata": {},
   "outputs": [],
   "source": [
    "input_path_train = \"dra.train\"\n",
    "input_path_test = \"dra.test\""
   ]
  },
  {
   "cell_type": "code",
   "execution_count": 13,
   "id": "ed443edd-1725-4349-9068-70b9f96e2702",
   "metadata": {},
   "outputs": [],
   "source": [
    "def print_results(model, input_path, k):\n",
    "    num_records, precision_at_k, recall_at_k = model.test(input_path, k)\n",
    "    f1_at_k = 2 * (precision_at_k * recall_at_k) / (precision_at_k + recall_at_k)\n",
    "\n",
    "    print(\"records\\t{}\".format(num_records))\n",
    "    print(\"Precision@{}\\t{:.3f}\".format(k, precision_at_k))\n",
    "    print(\"Recall@{}\\t{:.3f}\".format(k, recall_at_k))\n",
    "    print(\"F1@{}\\t{:.3f}\".format(k, f1_at_k))\n",
    "    print()"
   ]
  },
  {
   "cell_type": "markdown",
   "id": "4ea3feda-54a2-4517-8099-9d600e1d69d5",
   "metadata": {},
   "source": [
    "### Normal Model "
   ]
  },
  {
   "cell_type": "code",
   "execution_count": 14,
   "id": "277c08a1-11e4-4cce-aff7-abd02f0a6d3c",
   "metadata": {},
   "outputs": [
    {
     "name": "stderr",
     "output_type": "stream",
     "text": [
      "Read 0M words\n",
      "Number of words:  7708\n",
      "Number of labels: 5\n",
      "Progress: 100.0% words/sec/thread:  256139 lr:  0.000000 avg.loss:  0.768662 ETA:   0h 0m 0s\n"
     ]
    }
   ],
   "source": [
    "import fasttext \n",
    "model = fasttext.train_supervised(input=input_path_train,lr=0.1,lrUpdateRate=1000,wordNgrams=3,epoch=50,loss='ova') "
   ]
  },
  {
   "cell_type": "code",
   "execution_count": 15,
   "id": "55072e9e-c2a3-4ca8-8ab1-06ad3a28bfdf",
   "metadata": {},
   "outputs": [
    {
     "data": {
      "text/plain": [
       "(275, 0.7527272727272727, 0.7527272727272727)"
      ]
     },
     "execution_count": 15,
     "metadata": {},
     "output_type": "execute_result"
    }
   ],
   "source": [
    "model.test(\"dra.test\")"
   ]
  },
  {
   "cell_type": "code",
   "execution_count": 16,
   "id": "82ec4744-b3ca-4ac2-811d-42d208af2887",
   "metadata": {},
   "outputs": [],
   "source": [
    "final = main_test[\"News/Comment\"].str.replace(\"\\u200d\",'').replace(\"\\n\",\"\")"
   ]
  },
  {
   "cell_type": "code",
   "execution_count": 17,
   "id": "53d5c7ef-2646-4de7-8112-4ab9cd539cd0",
   "metadata": {},
   "outputs": [
    {
     "name": "stdout",
     "output_type": "stream",
     "text": [
      "train metrics:\n",
      "records\t1047\n",
      "Precision@1\t0.895\n",
      "Recall@1\t0.895\n",
      "F1@1\t0.895\n",
      "\n",
      "test metrics:\n",
      "records\t275\n",
      "Precision@1\t0.753\n",
      "Recall@1\t0.753\n",
      "F1@1\t0.753\n",
      "\n",
      "train metrics:\n",
      "records\t1047\n",
      "Precision@2\t0.486\n",
      "Recall@2\t0.971\n",
      "F1@2\t0.648\n",
      "\n",
      "test metrics:\n",
      "records\t275\n",
      "Precision@2\t0.442\n",
      "Recall@2\t0.884\n",
      "F1@2\t0.589\n",
      "\n"
     ]
    }
   ],
   "source": [
    "for k in range(1, 3):\n",
    "    print('train metrics:')\n",
    "    print_results(model, input_path_train, k)\n",
    "\n",
    "    print('test metrics:')\n",
    "    print_results(model, input_path_test, k)"
   ]
  },
  {
   "cell_type": "code",
   "execution_count": null,
   "id": "a9bd61e3-a7e0-43cf-b2ac-611017f031b6",
   "metadata": {},
   "outputs": [],
   "source": []
  }
 ],
 "metadata": {
  "kernelspec": {
   "display_name": "Python 3 (ipykernel)",
   "language": "python",
   "name": "python3"
  },
  "language_info": {
   "codemirror_mode": {
    "name": "ipython",
    "version": 3
   },
   "file_extension": ".py",
   "mimetype": "text/x-python",
   "name": "python",
   "nbconvert_exporter": "python",
   "pygments_lexer": "ipython3",
   "version": "3.10.12"
  }
 },
 "nbformat": 4,
 "nbformat_minor": 5
}
