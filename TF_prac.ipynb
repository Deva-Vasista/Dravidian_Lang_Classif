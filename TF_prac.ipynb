{
 "cells": [
  {
   "cell_type": "markdown",
   "id": "d3e2a4f4-94f3-42f7-b4ed-d79ad2365195",
   "metadata": {},
   "source": [
    "## Fake News Detection In Dravidian Languages"
   ]
  },
  {
   "cell_type": "code",
   "execution_count": 73,
   "id": "c7b6f207-7af4-4e70-9c87-33246b163752",
   "metadata": {},
   "outputs": [],
   "source": [
    "import pandas as pd\n",
    "import numpy as np\n",
    "from sklearn.metrics import f1_score\n",
    "import fasttext\n",
    "import tokenizers"
   ]
  },
  {
   "cell_type": "code",
   "execution_count": 74,
   "id": "ddd0fddc-dfbd-4de6-87a2-271fd91abbd0",
   "metadata": {},
   "outputs": [],
   "source": [
    "data = pd.read_csv(\"labelled_train_set.csv\")"
   ]
  },
  {
   "cell_type": "code",
   "execution_count": 75,
   "id": "cc4a86cd-24fc-47b2-b7de-4e1e2845ed47",
   "metadata": {},
   "outputs": [],
   "source": [
    "main_test = pd.read_csv('unlabelled_test1.csv')"
   ]
  },
  {
   "cell_type": "code",
   "execution_count": 76,
   "id": "d6d87563-5d0d-4179-9a8c-b8ea255974cc",
   "metadata": {},
   "outputs": [],
   "source": [
    "data.Type = data.Type.str.replace(\" \",\"_\")"
   ]
  },
  {
   "cell_type": "code",
   "execution_count": 77,
   "id": "dd7c58f0-7c81-49a4-90a5-227e10e45493",
   "metadata": {},
   "outputs": [],
   "source": [
    "# data[\"News/Comment\"]=data[\"News/Comment\"].str.replace(\"\\u200d\",'').replace(\"\\n\",\"\")"
   ]
  },
  {
   "cell_type": "code",
   "execution_count": 78,
   "id": "86e7ef7a-210f-4ccd-aaf8-5e0d0a74831e",
   "metadata": {},
   "outputs": [
    {
     "data": {
      "text/plain": [
       "Type\n",
       "FALSE           1130\n",
       "MOSTLY_FALSE     230\n",
       "HALF_TRUE        138\n",
       "PARTLY_FALSE      38\n",
       "MOSTLY_TRUE        1\n",
       "Name: count, dtype: int64"
      ]
     },
     "execution_count": 78,
     "metadata": {},
     "output_type": "execute_result"
    }
   ],
   "source": [
    "data.Type.value_counts()"
   ]
  },
  {
   "cell_type": "code",
   "execution_count": 79,
   "id": "4b5c8aee-d29c-4fa9-9779-ae1daf8a5da6",
   "metadata": {},
   "outputs": [],
   "source": [
    "data[\"Type\"] = \"__label__\" + data[\"Type\"].astype('str')"
   ]
  },
  {
   "cell_type": "code",
   "execution_count": 80,
   "id": "25bb6a1d-9bce-4cce-be01-ffeb271abd12",
   "metadata": {},
   "outputs": [],
   "source": [
    "data['description'] = data[\"Type\"] + \" \" + data[\"News/Comment\"]"
   ]
  },
  {
   "cell_type": "code",
   "execution_count": 81,
   "id": "edda2f0a-848c-4c61-b236-adfa85aa0a5e",
   "metadata": {},
   "outputs": [],
   "source": [
    "from sklearn.model_selection import train_test_split\n",
    "train,test = train_test_split(data, test_size = 0.2)"
   ]
  },
  {
   "cell_type": "code",
   "execution_count": 82,
   "id": "71a4e804-ebb3-4351-9b11-9f60a382948d",
   "metadata": {},
   "outputs": [
    {
     "data": {
      "text/plain": [
       "'പരാന്നഭോജി എന്ന വാക്കിനെ ഗൂഗിൾ നിർവചിച്ചിരിക്കുന്നത് \"മുതലാളിത്തം\" എന്നാണ്.'"
      ]
     },
     "execution_count": 82,
     "metadata": {},
     "output_type": "execute_result"
    }
   ],
   "source": [
    "train.iloc[15,1]"
   ]
  },
  {
   "cell_type": "code",
   "execution_count": 83,
   "id": "d63cdacc-4a10-4346-bd02-c727b946d810",
   "metadata": {},
   "outputs": [],
   "source": [
    "train.to_csv(\"dra.train\", columns = [\"description\"], index = False , header = False)\n",
    "test.to_csv(\"dra.test\", columns = [\"description\"], index = False , header = False)"
   ]
  },
  {
   "cell_type": "code",
   "execution_count": 84,
   "id": "29591745-c816-4918-ab2f-88a9d0322604",
   "metadata": {},
   "outputs": [],
   "source": [
    "input_path_train = \"dra.train\"\n",
    "input_path_test = \"dra.test\""
   ]
  },
  {
   "cell_type": "code",
   "execution_count": 85,
   "id": "ed443edd-1725-4349-9068-70b9f96e2702",
   "metadata": {},
   "outputs": [],
   "source": [
    "def print_results(model, input_path, k):\n",
    "    num_records, precision_at_k, recall_at_k = model.test(input_path, k)\n",
    "    f1_at_k = 2 * (precision_at_k * recall_at_k) / (precision_at_k + recall_at_k)\n",
    "\n",
    "    print(\"records\\t{}\".format(num_records))\n",
    "    print(\"Precision@{}\\t{:.3f}\".format(k, precision_at_k))\n",
    "    print(\"Recall@{}\\t{:.3f}\".format(k, recall_at_k))\n",
    "    print(\"F1@{}\\t{:.3f}\".format(k, f1_at_k))\n",
    "    print()"
   ]
  },
  {
   "cell_type": "markdown",
   "id": "4ea3feda-54a2-4517-8099-9d600e1d69d5",
   "metadata": {},
   "source": [
    "### Normal Model "
   ]
  },
  {
   "cell_type": "code",
   "execution_count": 86,
   "id": "277c08a1-11e4-4cce-aff7-abd02f0a6d3c",
   "metadata": {},
   "outputs": [
    {
     "name": "stderr",
     "output_type": "stream",
     "text": [
      "Read 0M words\n",
      "Number of words:  7641\n",
      "Number of labels: 5\n",
      "Progress: 100.0% words/sec/thread:  337860 lr:  0.000000 avg.loss:  0.765016 ETA:   0h 0m 0s\n"
     ]
    }
   ],
   "source": [
    "import fasttext \n",
    "model = fasttext.train_supervised(input=input_path_train,lr=0.1,lrUpdateRate=1000,wordNgrams=3,epoch=50,loss='ova') "
   ]
  },
  {
   "cell_type": "code",
   "execution_count": 87,
   "id": "55072e9e-c2a3-4ca8-8ab1-06ad3a28bfdf",
   "metadata": {},
   "outputs": [
    {
     "data": {
      "text/plain": [
       "(269, 0.7211895910780669, 0.7211895910780669)"
      ]
     },
     "execution_count": 87,
     "metadata": {},
     "output_type": "execute_result"
    }
   ],
   "source": [
    "model.test(\"dra.test\")"
   ]
  },
  {
   "cell_type": "code",
   "execution_count": 88,
   "id": "59d735dc-6647-4bd8-9e92-938786e46b91",
   "metadata": {},
   "outputs": [
    {
     "data": {
      "text/html": [
       "<div>\n",
       "<style scoped>\n",
       "    .dataframe tbody tr th:only-of-type {\n",
       "        vertical-align: middle;\n",
       "    }\n",
       "\n",
       "    .dataframe tbody tr th {\n",
       "        vertical-align: top;\n",
       "    }\n",
       "\n",
       "    .dataframe thead th {\n",
       "        text-align: right;\n",
       "    }\n",
       "</style>\n",
       "<table border=\"1\" class=\"dataframe\">\n",
       "  <thead>\n",
       "    <tr style=\"text-align: right;\">\n",
       "      <th></th>\n",
       "      <th>ID</th>\n",
       "      <th>News/Comment</th>\n",
       "    </tr>\n",
       "  </thead>\n",
       "  <tbody>\n",
       "    <tr>\n",
       "      <th>0</th>\n",
       "      <td>TEST_1</td>\n",
       "      <td>വിഴിഞ്ഞത്ത് തീരദേശവാസികള്‍ ആക്രമിച്ചപ്പോള്‍ മു...</td>\n",
       "    </tr>\n",
       "    <tr>\n",
       "      <th>1</th>\n",
       "      <td>TEST_2</td>\n",
       "      <td>കുരിശിന് മുന്നില്‍ കൈകൂപ്പി നില്‍ക്കുന്ന പിണറാ...</td>\n",
       "    </tr>\n",
       "    <tr>\n",
       "      <th>2</th>\n",
       "      <td>TEST_3</td>\n",
       "      <td>1971ലെ തലശ്ശേരി കലാപത്തില്‍ പങ്കുണ്ടായിരുന്ന പ...</td>\n",
       "    </tr>\n",
       "    <tr>\n",
       "      <th>3</th>\n",
       "      <td>TEST_4</td>\n",
       "      <td>ഗവര്‍ണര്‍ ആരിഫ് മുഹമ്മദ് ഖാനുമായുള്ളതര്‍ക്കം പ...</td>\n",
       "    </tr>\n",
       "    <tr>\n",
       "      <th>4</th>\n",
       "      <td>TEST_5</td>\n",
       "      <td>എല്ലാ മേഖലകളിലും കേരളം തകര്‍ന്നടിഞ്ഞുവെന്ന് സമ...</td>\n",
       "    </tr>\n",
       "    <tr>\n",
       "      <th>...</th>\n",
       "      <td>...</td>\n",
       "      <td>...</td>\n",
       "    </tr>\n",
       "    <tr>\n",
       "      <th>127</th>\n",
       "      <td>TEST_128</td>\n",
       "      <td>ന്യൂയോർക്ക് ടൈംസിന്റെ എഡിറ്റർ ജോസഫ് ഹോപ്പ് ഒരു...</td>\n",
       "    </tr>\n",
       "    <tr>\n",
       "      <th>128</th>\n",
       "      <td>TEST_129</td>\n",
       "      <td>ഷിർദിയിലെ സായി ക്ഷേത്രത്തിൽ ഹിന്ദുക്കൾ നൽകുന്ന...</td>\n",
       "    </tr>\n",
       "    <tr>\n",
       "      <th>129</th>\n",
       "      <td>TEST_130</td>\n",
       "      <td>ഉത്തര്പ്രദേശിലെ മദ്രസയില് യുവാവ് കുട്ടിയെ ക്രൂ...</td>\n",
       "    </tr>\n",
       "    <tr>\n",
       "      <th>130</th>\n",
       "      <td>TEST_131</td>\n",
       "      <td>ഐഎസ്ആർഒ ചന്ദ്രയാൻ -3 മിഷൻ ശനിയിൽ ഇറങ്ങുന്നതിന്...</td>\n",
       "    </tr>\n",
       "    <tr>\n",
       "      <th>131</th>\n",
       "      <td>TEST_132</td>\n",
       "      <td>ഹിലാരി ചുഴലിക്കാറ്റിനെ തുടര്ന്ന് വിമാനം തകര്ന്...</td>\n",
       "    </tr>\n",
       "  </tbody>\n",
       "</table>\n",
       "<p>132 rows × 2 columns</p>\n",
       "</div>"
      ],
      "text/plain": [
       "           ID                                       News/Comment\n",
       "0      TEST_1  വിഴിഞ്ഞത്ത് തീരദേശവാസികള്‍ ആക്രമിച്ചപ്പോള്‍ മു...\n",
       "1      TEST_2  കുരിശിന് മുന്നില്‍ കൈകൂപ്പി നില്‍ക്കുന്ന പിണറാ...\n",
       "2      TEST_3  1971ലെ തലശ്ശേരി കലാപത്തില്‍ പങ്കുണ്ടായിരുന്ന പ...\n",
       "3      TEST_4  ഗവര്‍ണര്‍ ആരിഫ് മുഹമ്മദ് ഖാനുമായുള്ളതര്‍ക്കം പ...\n",
       "4      TEST_5  എല്ലാ മേഖലകളിലും കേരളം തകര്‍ന്നടിഞ്ഞുവെന്ന് സമ...\n",
       "..        ...                                                ...\n",
       "127  TEST_128  ന്യൂയോർക്ക് ടൈംസിന്റെ എഡിറ്റർ ജോസഫ് ഹോപ്പ് ഒരു...\n",
       "128  TEST_129  ഷിർദിയിലെ സായി ക്ഷേത്രത്തിൽ ഹിന്ദുക്കൾ നൽകുന്ന...\n",
       "129  TEST_130  ഉത്തര്പ്രദേശിലെ മദ്രസയില് യുവാവ് കുട്ടിയെ ക്രൂ...\n",
       "130  TEST_131  ഐഎസ്ആർഒ ചന്ദ്രയാൻ -3 മിഷൻ ശനിയിൽ ഇറങ്ങുന്നതിന്...\n",
       "131  TEST_132  ഹിലാരി ചുഴലിക്കാറ്റിനെ തുടര്ന്ന് വിമാനം തകര്ന്...\n",
       "\n",
       "[132 rows x 2 columns]"
      ]
     },
     "execution_count": 88,
     "metadata": {},
     "output_type": "execute_result"
    }
   ],
   "source": [
    "main_test"
   ]
  },
  {
   "cell_type": "code",
   "execution_count": 89,
   "id": "82ec4744-b3ca-4ac2-811d-42d208af2887",
   "metadata": {},
   "outputs": [],
   "source": [
    "final = main_test[\"News/Comment\"].str.replace(\"\\u200d\",'').replace(\"\\n\",\"\").tolist()"
   ]
  },
  {
   "cell_type": "code",
   "execution_count": 90,
   "id": "53d5c7ef-2646-4de7-8112-4ab9cd539cd0",
   "metadata": {},
   "outputs": [
    {
     "name": "stdout",
     "output_type": "stream",
     "text": [
      "train metrics:\n",
      "records\t1053\n",
      "Precision@1\t0.970\n",
      "Recall@1\t0.970\n",
      "F1@1\t0.970\n",
      "\n",
      "test metrics:\n",
      "records\t269\n",
      "Precision@1\t0.721\n",
      "Recall@1\t0.721\n",
      "F1@1\t0.721\n",
      "\n",
      "train metrics:\n",
      "records\t1053\n",
      "Precision@2\t0.486\n",
      "Recall@2\t0.972\n",
      "F1@2\t0.648\n",
      "\n",
      "test metrics:\n",
      "records\t269\n",
      "Precision@2\t0.450\n",
      "Recall@2\t0.900\n",
      "F1@2\t0.600\n",
      "\n"
     ]
    }
   ],
   "source": [
    "for k in range(1, 3):\n",
    "    print('train metrics:')\n",
    "    print_results(model, input_path_train, k)\n",
    "\n",
    "    print('test metrics:')\n",
    "    print_results(model, input_path_test, k)"
   ]
  },
  {
   "cell_type": "code",
   "execution_count": 91,
   "id": "381f4644-139d-4fa1-9efd-2fa85765bb16",
   "metadata": {},
   "outputs": [],
   "source": [
    "df = pd.DataFrame(columns=[\"ID\",\"Predicted Type\"])"
   ]
  },
  {
   "cell_type": "code",
   "execution_count": 92,
   "id": "d5cdae87-9f38-4652-9ab7-bb704aca1cc7",
   "metadata": {},
   "outputs": [],
   "source": [
    "df['ID'] = main_test['ID']"
   ]
  },
  {
   "cell_type": "code",
   "execution_count": 93,
   "id": "26679502-407a-44ae-87fe-cd61dbe1464c",
   "metadata": {},
   "outputs": [],
   "source": [
    "l = []\n",
    "for item in final:\n",
    "   item = item.replace(\"\\n\",\" \")\n",
    "   l.append(model.predict(item)[0][0])"
   ]
  },
  {
   "cell_type": "code",
   "execution_count": 94,
   "id": "32640ea7-d649-44b8-86f7-935e242e3b2b",
   "metadata": {},
   "outputs": [],
   "source": [
    "df['Predicted Type'] = l"
   ]
  },
  {
   "cell_type": "code",
   "execution_count": 95,
   "id": "f97dae37-21e5-482a-add6-3248459147ce",
   "metadata": {},
   "outputs": [],
   "source": [
    "df['Predicted Type']= df['Predicted Type'].str.replace(\"__label__\",\"\").replace(\"_\",\"\")"
   ]
  },
  {
   "cell_type": "code",
   "execution_count": 96,
   "id": "de65ff4e-c976-47c0-9939-d9fe3b5aec66",
   "metadata": {},
   "outputs": [],
   "source": [
    "name_dict = {'FALSE':0,\"HALF_TRUE\":1,\"PARTLY_FALSE\":3}"
   ]
  },
  {
   "cell_type": "code",
   "execution_count": 100,
   "id": "442d260a-2d2c-4842-a4df-4d7c88238c35",
   "metadata": {},
   "outputs": [
    {
     "data": {
      "text/plain": [
       "['FALSE',\n",
       " 'FALSE',\n",
       " 'FALSE',\n",
       " 'FALSE',\n",
       " 'FALSE',\n",
       " 'FALSE',\n",
       " 'FALSE',\n",
       " 'FALSE',\n",
       " 'FALSE',\n",
       " 'FALSE',\n",
       " 'FALSE',\n",
       " 'FALSE',\n",
       " 'FALSE',\n",
       " 'FALSE',\n",
       " 'FALSE',\n",
       " 'FALSE',\n",
       " 'FALSE',\n",
       " 'FALSE',\n",
       " 'FALSE',\n",
       " 'FALSE',\n",
       " 'FALSE',\n",
       " 'FALSE',\n",
       " 'FALSE',\n",
       " 'FALSE',\n",
       " 'FALSE',\n",
       " 'FALSE',\n",
       " 'FALSE',\n",
       " 'FALSE',\n",
       " 'FALSE',\n",
       " 'FALSE',\n",
       " 'FALSE',\n",
       " 'FALSE',\n",
       " 'FALSE',\n",
       " 'FALSE',\n",
       " 'FALSE',\n",
       " 'FALSE',\n",
       " 'FALSE',\n",
       " 'FALSE',\n",
       " 'FALSE',\n",
       " 'FALSE',\n",
       " 'FALSE',\n",
       " 'FALSE',\n",
       " 'FALSE',\n",
       " 'FALSE',\n",
       " 'FALSE',\n",
       " 'FALSE',\n",
       " 'FALSE',\n",
       " 'FALSE',\n",
       " 'FALSE',\n",
       " 'FALSE',\n",
       " 'FALSE',\n",
       " 'FALSE',\n",
       " 'FALSE',\n",
       " 'FALSE',\n",
       " 'FALSE',\n",
       " 'FALSE',\n",
       " 'FALSE',\n",
       " 'FALSE',\n",
       " 'FALSE',\n",
       " 'FALSE',\n",
       " 'FALSE',\n",
       " 'FALSE',\n",
       " 'FALSE',\n",
       " 'FALSE',\n",
       " 'FALSE',\n",
       " 'FALSE',\n",
       " 'FALSE',\n",
       " 'HALF_TRUE',\n",
       " 'FALSE',\n",
       " 'FALSE',\n",
       " 'FALSE',\n",
       " 'FALSE',\n",
       " 'FALSE',\n",
       " 'FALSE',\n",
       " 'FALSE',\n",
       " 'FALSE',\n",
       " 'FALSE',\n",
       " 'FALSE',\n",
       " 'FALSE',\n",
       " 'FALSE',\n",
       " 'FALSE',\n",
       " 'FALSE',\n",
       " 'FALSE',\n",
       " 'FALSE',\n",
       " 'FALSE',\n",
       " 'FALSE',\n",
       " 'FALSE',\n",
       " 'FALSE',\n",
       " 'FALSE',\n",
       " 'FALSE',\n",
       " 'FALSE',\n",
       " 'FALSE',\n",
       " 'FALSE',\n",
       " 'HALF_TRUE',\n",
       " 'FALSE',\n",
       " 'FALSE',\n",
       " 'FALSE',\n",
       " 'FALSE',\n",
       " 'FALSE',\n",
       " 'FALSE',\n",
       " 'FALSE',\n",
       " 'FALSE',\n",
       " 'FALSE',\n",
       " 'FALSE',\n",
       " 'FALSE',\n",
       " 'FALSE',\n",
       " 'FALSE',\n",
       " 'FALSE',\n",
       " 'FALSE',\n",
       " 'FALSE',\n",
       " 'FALSE',\n",
       " 'FALSE',\n",
       " 'FALSE',\n",
       " 'FALSE',\n",
       " 'FALSE',\n",
       " 'FALSE',\n",
       " 'FALSE',\n",
       " 'FALSE',\n",
       " 'FALSE',\n",
       " 'FALSE',\n",
       " 'FALSE',\n",
       " 'FALSE',\n",
       " 'FALSE',\n",
       " 'FALSE',\n",
       " 'FALSE',\n",
       " 'FALSE',\n",
       " 'FALSE',\n",
       " 'FALSE',\n",
       " 'FALSE',\n",
       " 'FALSE',\n",
       " 'FALSE',\n",
       " 'FALSE']"
      ]
     },
     "execution_count": 100,
     "metadata": {},
     "output_type": "execute_result"
    }
   ],
   "source": [
    "df['Predicted Type'].tolist()"
   ]
  },
  {
   "cell_type": "code",
   "execution_count": 103,
   "id": "2b0592d4-9f0d-4cac-9a9a-70f4ee581711",
   "metadata": {},
   "outputs": [],
   "source": [
    "df['Predicted Type']=df['Predicted Type'].apply(lambda x: name_dict[x])"
   ]
  },
  {
   "cell_type": "code",
   "execution_count": 107,
   "id": "7da2f97c-e444-4133-b989-91598772cb29",
   "metadata": {},
   "outputs": [],
   "source": [
    "df.to_csv(\"fasttext_dravidian.csv\",index=False)"
   ]
  },
  {
   "cell_type": "code",
   "execution_count": null,
   "id": "eb1efa5e-2bc9-4b7b-9469-bb682596ef67",
   "metadata": {},
   "outputs": [],
   "source": []
  }
 ],
 "metadata": {
  "kernelspec": {
   "display_name": "Python 3 (ipykernel)",
   "language": "python",
   "name": "python3"
  },
  "language_info": {
   "codemirror_mode": {
    "name": "ipython",
    "version": 3
   },
   "file_extension": ".py",
   "mimetype": "text/x-python",
   "name": "python",
   "nbconvert_exporter": "python",
   "pygments_lexer": "ipython3",
   "version": "3.10.12"
  }
 },
 "nbformat": 4,
 "nbformat_minor": 5
}
